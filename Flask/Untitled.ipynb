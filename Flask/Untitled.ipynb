{
 "cells": [
  {
   "cell_type": "code",
   "execution_count": 2,
   "metadata": {},
   "outputs": [
    {
     "name": "stdout",
     "output_type": "stream",
     "text": [
      "Requirement already satisfied: pyyaml in /home/vaibagga/anaconda3/envs/tensorflow/lib/python3.6/site-packages (3.13)\r\n"
     ]
    }
   ],
   "source": [
    "!pip install pyyaml"
   ]
  },
  {
   "cell_type": "code",
   "execution_count": 5,
   "metadata": {},
   "outputs": [
    {
     "name": "stdout",
     "output_type": "stream",
     "text": [
      "Requirement already satisfied: Flask-Mysql in /home/vaibagga/anaconda3/envs/tensorflow/lib/python3.6/site-packages (1.4.0)\n",
      "Requirement already satisfied: PyMySQL in /home/vaibagga/anaconda3/envs/tensorflow/lib/python3.6/site-packages (from Flask-Mysql) (0.9.3)\n",
      "Requirement already satisfied: Flask in /home/vaibagga/anaconda3/envs/tensorflow/lib/python3.6/site-packages (from Flask-Mysql) (0.12.2)\n",
      "Requirement already satisfied: Werkzeug>=0.7 in /home/vaibagga/anaconda3/envs/tensorflow/lib/python3.6/site-packages (from Flask->Flask-Mysql) (0.14.1)\n",
      "Requirement already satisfied: Jinja2>=2.4 in /home/vaibagga/anaconda3/envs/tensorflow/lib/python3.6/site-packages (from Flask->Flask-Mysql) (2.10)\n",
      "Requirement already satisfied: itsdangerous>=0.21 in /home/vaibagga/anaconda3/envs/tensorflow/lib/python3.6/site-packages (from Flask->Flask-Mysql) (1.1.0)\n",
      "Requirement already satisfied: click>=2.0 in /home/vaibagga/anaconda3/envs/tensorflow/lib/python3.6/site-packages (from Flask->Flask-Mysql) (7.0)\n",
      "Requirement already satisfied: MarkupSafe>=0.23 in /home/vaibagga/anaconda3/envs/tensorflow/lib/python3.6/site-packages (from Jinja2>=2.4->Flask->Flask-Mysql) (1.1.0)\n"
     ]
    }
   ],
   "source": [
    "!pip install Flask-Mysql"
   ]
  },
  {
   "cell_type": "code",
   "execution_count": 7,
   "metadata": {},
   "outputs": [
    {
     "name": "stdout",
     "output_type": "stream",
     "text": [
      "Collecting flask-mysqldb\n",
      "  Downloading https://files.pythonhosted.org/packages/62/e3/955c845efe1aacf30c8e2607470544ede36aa1044f6382c809f13e014104/Flask-MySQLdb-0.2.0.tar.gz\n",
      "Requirement already satisfied: Flask>=0.10 in /home/vaibagga/anaconda3/envs/tensorflow/lib/python3.6/site-packages (from flask-mysqldb) (0.12.2)\n",
      "Collecting mysqlclient (from flask-mysqldb)\n",
      "\u001b[?25l  Downloading https://files.pythonhosted.org/packages/f4/f1/3bb6f64ca7a429729413e6556b7ba5976df06019a5245a43d36032f1061e/mysqlclient-1.4.2.post1.tar.gz (85kB)\n",
      "\u001b[K    100% |████████████████████████████████| 92kB 179kB/s ta 0:00:01\n",
      "\u001b[?25h    Complete output from command python setup.py egg_info:\n",
      "    /bin/sh: 1: mysql_config: not found\n",
      "    Traceback (most recent call last):\n",
      "      File \"<string>\", line 1, in <module>\n",
      "      File \"/tmp/pip-install-_t3w_gsc/mysqlclient/setup.py\", line 16, in <module>\n",
      "        metadata, options = get_config()\n",
      "      File \"/tmp/pip-install-_t3w_gsc/mysqlclient/setup_posix.py\", line 51, in get_config\n",
      "        libs = mysql_config(\"libs\")\n",
      "      File \"/tmp/pip-install-_t3w_gsc/mysqlclient/setup_posix.py\", line 29, in mysql_config\n",
      "        raise EnvironmentError(\"%s not found\" % (_mysql_config_path,))\n",
      "    OSError: mysql_config not found\n",
      "    \n",
      "    ----------------------------------------\n",
      "\u001b[31mCommand \"python setup.py egg_info\" failed with error code 1 in /tmp/pip-install-_t3w_gsc/mysqlclient/\u001b[0m\n"
     ]
    }
   ],
   "source": [
    "!pip install flask-mysqldb"
   ]
  },
  {
   "cell_type": "code",
   "execution_count": null,
   "metadata": {},
   "outputs": [],
   "source": []
  }
 ],
 "metadata": {
  "kernelspec": {
   "display_name": "Python 3",
   "language": "python",
   "name": "python3"
  },
  "language_info": {
   "codemirror_mode": {
    "name": "ipython",
    "version": 3
   },
   "file_extension": ".py",
   "mimetype": "text/x-python",
   "name": "python",
   "nbconvert_exporter": "python",
   "pygments_lexer": "ipython3",
   "version": "3.6.7"
  }
 },
 "nbformat": 4,
 "nbformat_minor": 2
}
